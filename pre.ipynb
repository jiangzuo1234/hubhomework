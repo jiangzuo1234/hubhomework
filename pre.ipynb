{
 "cells": [
  {
   "cell_type": "code",
   "execution_count": 1,
   "id": "54981dbd-a74b-47ef-bec7-1d7d655b2c2a",
   "metadata": {
    "execution": {
     "iopub.execute_input": "2022-03-29T03:38:20.383010Z",
     "iopub.status.busy": "2022-03-29T03:38:20.382412Z",
     "iopub.status.idle": "2022-03-29T03:38:24.452328Z",
     "shell.execute_reply": "2022-03-29T03:38:24.451705Z",
     "shell.execute_reply.started": "2022-03-29T03:38:20.382977Z"
    },
    "scrolled": true
   },
   "outputs": [
    {
     "name": "stdout",
     "output_type": "stream",
     "text": [
      "load custom parameters success\n",
      "[{'roses': 1.0}]\n"
     ]
    }
   ],
   "source": [
    "import paddle\n",
    "import paddlehub as hub\n",
    "\n",
    "model = hub.Module(name='resnet50_vd_imagenet_ssld', label_list=[\"roses\", \"tulips\", \"daisy\", \"sunflowers\", \"dandelion\"], load_checkpoint='img_classification_ckpt/best_model/model.pdopt')\n",
    "result = model.predict(['fa.jpg'])\n",
    "print(result)"
   ]
  }
 ],
 "metadata": {
  "kernelspec": {
   "display_name": "Python 3",
   "language": "python",
   "name": "py35-paddle1.2.0"
  },
  "language_info": {
   "codemirror_mode": {
    "name": "ipython",
    "version": 3
   },
   "file_extension": ".py",
   "mimetype": "text/x-python",
   "name": "python",
   "nbconvert_exporter": "python",
   "pygments_lexer": "ipython3",
   "version": "3.7.4"
  }
 },
 "nbformat": 4,
 "nbformat_minor": 5
}
